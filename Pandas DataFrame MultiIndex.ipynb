{
 "cells": [
  {
   "cell_type": "code",
   "execution_count": 1,
   "metadata": {},
   "outputs": [],
   "source": [
    "import numpy as np\n",
    "import pandas as pd"
   ]
  },
  {
   "cell_type": "code",
   "execution_count": 2,
   "metadata": {},
   "outputs": [],
   "source": [
    "from numpy.random import randn"
   ]
  },
  {
   "cell_type": "code",
   "execution_count": 3,
   "metadata": {},
   "outputs": [],
   "source": [
    "outerIndex = [\"Grup1\",\"Grup1\",\"Grup1\",\"Grup2\",\"Grup2\",\"Grup2\",\"Grup3\",\"Grup3\",\"Grup3\"]"
   ]
  },
  {
   "cell_type": "code",
   "execution_count": 4,
   "metadata": {},
   "outputs": [],
   "source": [
    "innerIndex = [\"Index1\",\"Index2\",\"Index3\",\"Index1\",\"Index2\",\"Index3\",\"Index1\",\"Index2\",\"Index3\"]"
   ]
  },
  {
   "cell_type": "code",
   "execution_count": 6,
   "metadata": {},
   "outputs": [],
   "source": [
    "hiyerarsi = list(zip(outerIndex,innerIndex))"
   ]
  },
  {
   "cell_type": "code",
   "execution_count": 7,
   "metadata": {},
   "outputs": [
    {
     "data": {
      "text/plain": [
       "[('Grup1', 'Index1'),\n",
       " ('Grup1', 'Index2'),\n",
       " ('Grup1', 'Index3'),\n",
       " ('Grup2', 'Index1'),\n",
       " ('Grup2', 'Index2'),\n",
       " ('Grup2', 'Index3'),\n",
       " ('Grup3', 'Index1'),\n",
       " ('Grup3', 'Index2'),\n",
       " ('Grup3', 'Index3')]"
      ]
     },
     "execution_count": 7,
     "metadata": {},
     "output_type": "execute_result"
    }
   ],
   "source": [
    "hiyerarsi"
   ]
  },
  {
   "cell_type": "code",
   "execution_count": 8,
   "metadata": {},
   "outputs": [],
   "source": [
    " hiyerarsi = pd.MultiIndex.from_tuples(hiyerarsi)"
   ]
  },
  {
   "cell_type": "code",
   "execution_count": 9,
   "metadata": {},
   "outputs": [
    {
     "data": {
      "text/plain": [
       "MultiIndex([('Grup1', 'Index1'),\n",
       "            ('Grup1', 'Index2'),\n",
       "            ('Grup1', 'Index3'),\n",
       "            ('Grup2', 'Index1'),\n",
       "            ('Grup2', 'Index2'),\n",
       "            ('Grup2', 'Index3'),\n",
       "            ('Grup3', 'Index1'),\n",
       "            ('Grup3', 'Index2'),\n",
       "            ('Grup3', 'Index3')],\n",
       "           )"
      ]
     },
     "execution_count": 9,
     "metadata": {},
     "output_type": "execute_result"
    }
   ],
   "source": [
    "hiyerarsi"
   ]
  },
  {
   "cell_type": "code",
   "execution_count": 10,
   "metadata": {},
   "outputs": [],
   "source": [
    "df = pd.DataFrame(randn(9,3),hiyerarsi,[\"Column1\",\"Column2\",\"Column3\"])"
   ]
  },
  {
   "cell_type": "code",
   "execution_count": 11,
   "metadata": {},
   "outputs": [
    {
     "data": {
      "text/html": [
       "<div>\n",
       "<style scoped>\n",
       "    .dataframe tbody tr th:only-of-type {\n",
       "        vertical-align: middle;\n",
       "    }\n",
       "\n",
       "    .dataframe tbody tr th {\n",
       "        vertical-align: top;\n",
       "    }\n",
       "\n",
       "    .dataframe thead th {\n",
       "        text-align: right;\n",
       "    }\n",
       "</style>\n",
       "<table border=\"1\" class=\"dataframe\">\n",
       "  <thead>\n",
       "    <tr style=\"text-align: right;\">\n",
       "      <th></th>\n",
       "      <th></th>\n",
       "      <th>Column1</th>\n",
       "      <th>Column2</th>\n",
       "      <th>Column3</th>\n",
       "    </tr>\n",
       "  </thead>\n",
       "  <tbody>\n",
       "    <tr>\n",
       "      <th rowspan=\"3\" valign=\"top\">Grup1</th>\n",
       "      <th>Index1</th>\n",
       "      <td>-0.317793</td>\n",
       "      <td>1.141676</td>\n",
       "      <td>-1.021938</td>\n",
       "    </tr>\n",
       "    <tr>\n",
       "      <th>Index2</th>\n",
       "      <td>-1.531332</td>\n",
       "      <td>-0.593226</td>\n",
       "      <td>-0.138124</td>\n",
       "    </tr>\n",
       "    <tr>\n",
       "      <th>Index3</th>\n",
       "      <td>0.209184</td>\n",
       "      <td>1.888667</td>\n",
       "      <td>1.699283</td>\n",
       "    </tr>\n",
       "    <tr>\n",
       "      <th rowspan=\"3\" valign=\"top\">Grup2</th>\n",
       "      <th>Index1</th>\n",
       "      <td>1.021676</td>\n",
       "      <td>0.272666</td>\n",
       "      <td>-0.700912</td>\n",
       "    </tr>\n",
       "    <tr>\n",
       "      <th>Index2</th>\n",
       "      <td>1.690909</td>\n",
       "      <td>-0.233450</td>\n",
       "      <td>0.010106</td>\n",
       "    </tr>\n",
       "    <tr>\n",
       "      <th>Index3</th>\n",
       "      <td>-0.152261</td>\n",
       "      <td>-0.148497</td>\n",
       "      <td>0.955620</td>\n",
       "    </tr>\n",
       "    <tr>\n",
       "      <th rowspan=\"3\" valign=\"top\">Grup3</th>\n",
       "      <th>Index1</th>\n",
       "      <td>-0.252855</td>\n",
       "      <td>0.885861</td>\n",
       "      <td>1.475809</td>\n",
       "    </tr>\n",
       "    <tr>\n",
       "      <th>Index2</th>\n",
       "      <td>-0.935207</td>\n",
       "      <td>-0.621830</td>\n",
       "      <td>-1.000416</td>\n",
       "    </tr>\n",
       "    <tr>\n",
       "      <th>Index3</th>\n",
       "      <td>0.924544</td>\n",
       "      <td>-1.683811</td>\n",
       "      <td>-0.579724</td>\n",
       "    </tr>\n",
       "  </tbody>\n",
       "</table>\n",
       "</div>"
      ],
      "text/plain": [
       "               Column1   Column2   Column3\n",
       "Grup1 Index1 -0.317793  1.141676 -1.021938\n",
       "      Index2 -1.531332 -0.593226 -0.138124\n",
       "      Index3  0.209184  1.888667  1.699283\n",
       "Grup2 Index1  1.021676  0.272666 -0.700912\n",
       "      Index2  1.690909 -0.233450  0.010106\n",
       "      Index3 -0.152261 -0.148497  0.955620\n",
       "Grup3 Index1 -0.252855  0.885861  1.475809\n",
       "      Index2 -0.935207 -0.621830 -1.000416\n",
       "      Index3  0.924544 -1.683811 -0.579724"
      ]
     },
     "execution_count": 11,
     "metadata": {},
     "output_type": "execute_result"
    }
   ],
   "source": [
    "df"
   ]
  },
  {
   "cell_type": "markdown",
   "metadata": {},
   "source": [
    "**Access**"
   ]
  },
  {
   "cell_type": "code",
   "execution_count": 13,
   "metadata": {},
   "outputs": [
    {
     "data": {
      "text/plain": [
       "Grup1  Index1   -0.317793\n",
       "       Index2   -1.531332\n",
       "       Index3    0.209184\n",
       "Grup2  Index1    1.021676\n",
       "       Index2    1.690909\n",
       "       Index3   -0.152261\n",
       "Grup3  Index1   -0.252855\n",
       "       Index2   -0.935207\n",
       "       Index3    0.924544\n",
       "Name: Column1, dtype: float64"
      ]
     },
     "execution_count": 13,
     "metadata": {},
     "output_type": "execute_result"
    }
   ],
   "source": [
    "df[\"Column1\"]"
   ]
  },
  {
   "cell_type": "code",
   "execution_count": 14,
   "metadata": {},
   "outputs": [
    {
     "data": {
      "text/html": [
       "<div>\n",
       "<style scoped>\n",
       "    .dataframe tbody tr th:only-of-type {\n",
       "        vertical-align: middle;\n",
       "    }\n",
       "\n",
       "    .dataframe tbody tr th {\n",
       "        vertical-align: top;\n",
       "    }\n",
       "\n",
       "    .dataframe thead th {\n",
       "        text-align: right;\n",
       "    }\n",
       "</style>\n",
       "<table border=\"1\" class=\"dataframe\">\n",
       "  <thead>\n",
       "    <tr style=\"text-align: right;\">\n",
       "      <th></th>\n",
       "      <th>Column1</th>\n",
       "      <th>Column2</th>\n",
       "      <th>Column3</th>\n",
       "    </tr>\n",
       "  </thead>\n",
       "  <tbody>\n",
       "    <tr>\n",
       "      <th>Index1</th>\n",
       "      <td>-0.317793</td>\n",
       "      <td>1.141676</td>\n",
       "      <td>-1.021938</td>\n",
       "    </tr>\n",
       "    <tr>\n",
       "      <th>Index2</th>\n",
       "      <td>-1.531332</td>\n",
       "      <td>-0.593226</td>\n",
       "      <td>-0.138124</td>\n",
       "    </tr>\n",
       "    <tr>\n",
       "      <th>Index3</th>\n",
       "      <td>0.209184</td>\n",
       "      <td>1.888667</td>\n",
       "      <td>1.699283</td>\n",
       "    </tr>\n",
       "  </tbody>\n",
       "</table>\n",
       "</div>"
      ],
      "text/plain": [
       "         Column1   Column2   Column3\n",
       "Index1 -0.317793  1.141676 -1.021938\n",
       "Index2 -1.531332 -0.593226 -0.138124\n",
       "Index3  0.209184  1.888667  1.699283"
      ]
     },
     "execution_count": 14,
     "metadata": {},
     "output_type": "execute_result"
    }
   ],
   "source": [
    "df.loc[\"Grup1\"]"
   ]
  },
  {
   "cell_type": "code",
   "execution_count": 15,
   "metadata": {},
   "outputs": [
    {
     "data": {
      "text/plain": [
       "Column1   -0.317793\n",
       "Column2    1.141676\n",
       "Column3   -1.021938\n",
       "Name: Index1, dtype: float64"
      ]
     },
     "execution_count": 15,
     "metadata": {},
     "output_type": "execute_result"
    }
   ],
   "source": [
    "df.loc[\"Grup1\"].loc[\"Index1\"]"
   ]
  },
  {
   "cell_type": "markdown",
   "metadata": {},
   "source": [
    "**Set names to index**"
   ]
  },
  {
   "cell_type": "code",
   "execution_count": 16,
   "metadata": {},
   "outputs": [],
   "source": [
    "df.index.names=[\"Gruplar\",\"Indexler\"]"
   ]
  },
  {
   "cell_type": "code",
   "execution_count": 17,
   "metadata": {},
   "outputs": [
    {
     "data": {
      "text/html": [
       "<div>\n",
       "<style scoped>\n",
       "    .dataframe tbody tr th:only-of-type {\n",
       "        vertical-align: middle;\n",
       "    }\n",
       "\n",
       "    .dataframe tbody tr th {\n",
       "        vertical-align: top;\n",
       "    }\n",
       "\n",
       "    .dataframe thead th {\n",
       "        text-align: right;\n",
       "    }\n",
       "</style>\n",
       "<table border=\"1\" class=\"dataframe\">\n",
       "  <thead>\n",
       "    <tr style=\"text-align: right;\">\n",
       "      <th></th>\n",
       "      <th></th>\n",
       "      <th>Column1</th>\n",
       "      <th>Column2</th>\n",
       "      <th>Column3</th>\n",
       "    </tr>\n",
       "    <tr>\n",
       "      <th>Gruplar</th>\n",
       "      <th>Indexler</th>\n",
       "      <th></th>\n",
       "      <th></th>\n",
       "      <th></th>\n",
       "    </tr>\n",
       "  </thead>\n",
       "  <tbody>\n",
       "    <tr>\n",
       "      <th rowspan=\"3\" valign=\"top\">Grup1</th>\n",
       "      <th>Index1</th>\n",
       "      <td>-0.317793</td>\n",
       "      <td>1.141676</td>\n",
       "      <td>-1.021938</td>\n",
       "    </tr>\n",
       "    <tr>\n",
       "      <th>Index2</th>\n",
       "      <td>-1.531332</td>\n",
       "      <td>-0.593226</td>\n",
       "      <td>-0.138124</td>\n",
       "    </tr>\n",
       "    <tr>\n",
       "      <th>Index3</th>\n",
       "      <td>0.209184</td>\n",
       "      <td>1.888667</td>\n",
       "      <td>1.699283</td>\n",
       "    </tr>\n",
       "    <tr>\n",
       "      <th rowspan=\"3\" valign=\"top\">Grup2</th>\n",
       "      <th>Index1</th>\n",
       "      <td>1.021676</td>\n",
       "      <td>0.272666</td>\n",
       "      <td>-0.700912</td>\n",
       "    </tr>\n",
       "    <tr>\n",
       "      <th>Index2</th>\n",
       "      <td>1.690909</td>\n",
       "      <td>-0.233450</td>\n",
       "      <td>0.010106</td>\n",
       "    </tr>\n",
       "    <tr>\n",
       "      <th>Index3</th>\n",
       "      <td>-0.152261</td>\n",
       "      <td>-0.148497</td>\n",
       "      <td>0.955620</td>\n",
       "    </tr>\n",
       "    <tr>\n",
       "      <th rowspan=\"3\" valign=\"top\">Grup3</th>\n",
       "      <th>Index1</th>\n",
       "      <td>-0.252855</td>\n",
       "      <td>0.885861</td>\n",
       "      <td>1.475809</td>\n",
       "    </tr>\n",
       "    <tr>\n",
       "      <th>Index2</th>\n",
       "      <td>-0.935207</td>\n",
       "      <td>-0.621830</td>\n",
       "      <td>-1.000416</td>\n",
       "    </tr>\n",
       "    <tr>\n",
       "      <th>Index3</th>\n",
       "      <td>0.924544</td>\n",
       "      <td>-1.683811</td>\n",
       "      <td>-0.579724</td>\n",
       "    </tr>\n",
       "  </tbody>\n",
       "</table>\n",
       "</div>"
      ],
      "text/plain": [
       "                   Column1   Column2   Column3\n",
       "Gruplar Indexler                              \n",
       "Grup1   Index1   -0.317793  1.141676 -1.021938\n",
       "        Index2   -1.531332 -0.593226 -0.138124\n",
       "        Index3    0.209184  1.888667  1.699283\n",
       "Grup2   Index1    1.021676  0.272666 -0.700912\n",
       "        Index2    1.690909 -0.233450  0.010106\n",
       "        Index3   -0.152261 -0.148497  0.955620\n",
       "Grup3   Index1   -0.252855  0.885861  1.475809\n",
       "        Index2   -0.935207 -0.621830 -1.000416\n",
       "        Index3    0.924544 -1.683811 -0.579724"
      ]
     },
     "execution_count": 17,
     "metadata": {},
     "output_type": "execute_result"
    }
   ],
   "source": [
    "df"
   ]
  },
  {
   "cell_type": "markdown",
   "metadata": {},
   "source": [
    "**Access with xs**"
   ]
  },
  {
   "cell_type": "code",
   "execution_count": 18,
   "metadata": {},
   "outputs": [
    {
     "data": {
      "text/html": [
       "<div>\n",
       "<style scoped>\n",
       "    .dataframe tbody tr th:only-of-type {\n",
       "        vertical-align: middle;\n",
       "    }\n",
       "\n",
       "    .dataframe tbody tr th {\n",
       "        vertical-align: top;\n",
       "    }\n",
       "\n",
       "    .dataframe thead th {\n",
       "        text-align: right;\n",
       "    }\n",
       "</style>\n",
       "<table border=\"1\" class=\"dataframe\">\n",
       "  <thead>\n",
       "    <tr style=\"text-align: right;\">\n",
       "      <th></th>\n",
       "      <th>Column1</th>\n",
       "      <th>Column2</th>\n",
       "      <th>Column3</th>\n",
       "    </tr>\n",
       "    <tr>\n",
       "      <th>Indexler</th>\n",
       "      <th></th>\n",
       "      <th></th>\n",
       "      <th></th>\n",
       "    </tr>\n",
       "  </thead>\n",
       "  <tbody>\n",
       "    <tr>\n",
       "      <th>Index1</th>\n",
       "      <td>-0.317793</td>\n",
       "      <td>1.141676</td>\n",
       "      <td>-1.021938</td>\n",
       "    </tr>\n",
       "    <tr>\n",
       "      <th>Index2</th>\n",
       "      <td>-1.531332</td>\n",
       "      <td>-0.593226</td>\n",
       "      <td>-0.138124</td>\n",
       "    </tr>\n",
       "    <tr>\n",
       "      <th>Index3</th>\n",
       "      <td>0.209184</td>\n",
       "      <td>1.888667</td>\n",
       "      <td>1.699283</td>\n",
       "    </tr>\n",
       "  </tbody>\n",
       "</table>\n",
       "</div>"
      ],
      "text/plain": [
       "           Column1   Column2   Column3\n",
       "Indexler                              \n",
       "Index1   -0.317793  1.141676 -1.021938\n",
       "Index2   -1.531332 -0.593226 -0.138124\n",
       "Index3    0.209184  1.888667  1.699283"
      ]
     },
     "execution_count": 18,
     "metadata": {},
     "output_type": "execute_result"
    }
   ],
   "source": [
    "df.xs(\"Grup1\") # df.loc[\"Grup1\"]"
   ]
  },
  {
   "cell_type": "code",
   "execution_count": 19,
   "metadata": {},
   "outputs": [
    {
     "data": {
      "text/plain": [
       "Column1   -0.317793\n",
       "Column2    1.141676\n",
       "Column3   -1.021938\n",
       "Name: Index1, dtype: float64"
      ]
     },
     "execution_count": 19,
     "metadata": {},
     "output_type": "execute_result"
    }
   ],
   "source": [
    "df.xs(\"Grup1\").xs(\"Index1\") # df.loc[\"Grup1\"].loc[\"Index1\"]"
   ]
  },
  {
   "cell_type": "code",
   "execution_count": 20,
   "metadata": {},
   "outputs": [
    {
     "data": {
      "text/plain": [
       "-0.3177934036952262"
      ]
     },
     "execution_count": 20,
     "metadata": {},
     "output_type": "execute_result"
    }
   ],
   "source": [
    "df.xs(\"Grup1\").xs(\"Index1\").xs(\"Column1\")"
   ]
  },
  {
   "cell_type": "markdown",
   "metadata": {},
   "source": [
    "**Access inside**"
   ]
  },
  {
   "cell_type": "code",
   "execution_count": 21,
   "metadata": {},
   "outputs": [
    {
     "data": {
      "text/html": [
       "<div>\n",
       "<style scoped>\n",
       "    .dataframe tbody tr th:only-of-type {\n",
       "        vertical-align: middle;\n",
       "    }\n",
       "\n",
       "    .dataframe tbody tr th {\n",
       "        vertical-align: top;\n",
       "    }\n",
       "\n",
       "    .dataframe thead th {\n",
       "        text-align: right;\n",
       "    }\n",
       "</style>\n",
       "<table border=\"1\" class=\"dataframe\">\n",
       "  <thead>\n",
       "    <tr style=\"text-align: right;\">\n",
       "      <th></th>\n",
       "      <th>Column1</th>\n",
       "      <th>Column2</th>\n",
       "      <th>Column3</th>\n",
       "    </tr>\n",
       "    <tr>\n",
       "      <th>Gruplar</th>\n",
       "      <th></th>\n",
       "      <th></th>\n",
       "      <th></th>\n",
       "    </tr>\n",
       "  </thead>\n",
       "  <tbody>\n",
       "    <tr>\n",
       "      <th>Grup1</th>\n",
       "      <td>-0.317793</td>\n",
       "      <td>1.141676</td>\n",
       "      <td>-1.021938</td>\n",
       "    </tr>\n",
       "    <tr>\n",
       "      <th>Grup2</th>\n",
       "      <td>1.021676</td>\n",
       "      <td>0.272666</td>\n",
       "      <td>-0.700912</td>\n",
       "    </tr>\n",
       "    <tr>\n",
       "      <th>Grup3</th>\n",
       "      <td>-0.252855</td>\n",
       "      <td>0.885861</td>\n",
       "      <td>1.475809</td>\n",
       "    </tr>\n",
       "  </tbody>\n",
       "</table>\n",
       "</div>"
      ],
      "text/plain": [
       "          Column1   Column2   Column3\n",
       "Gruplar                              \n",
       "Grup1   -0.317793  1.141676 -1.021938\n",
       "Grup2    1.021676  0.272666 -0.700912\n",
       "Grup3   -0.252855  0.885861  1.475809"
      ]
     },
     "execution_count": 21,
     "metadata": {},
     "output_type": "execute_result"
    }
   ],
   "source": [
    "df.xs(\"Index1\",level=\"Indexler\")  # level which index"
   ]
  },
  {
   "cell_type": "code",
   "execution_count": null,
   "metadata": {},
   "outputs": [],
   "source": []
  }
 ],
 "metadata": {
  "kernelspec": {
   "display_name": "Python 3",
   "language": "python",
   "name": "python3"
  },
  "language_info": {
   "codemirror_mode": {
    "name": "ipython",
    "version": 3
   },
   "file_extension": ".py",
   "mimetype": "text/x-python",
   "name": "python",
   "nbconvert_exporter": "python",
   "pygments_lexer": "ipython3",
   "version": "3.7.3"
  }
 },
 "nbformat": 4,
 "nbformat_minor": 4
}
